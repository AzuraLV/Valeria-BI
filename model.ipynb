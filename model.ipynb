{
 "cells": [
  {
   "cell_type": "code",
   "execution_count": 27,
   "metadata": {},
   "outputs": [],
   "source": [
    "from flask import Flask, render_template\n",
    "import pandas as pd\n",
    "import plotly.express as px\n",
    "import json"
   ]
  },
  {
   "cell_type": "code",
   "execution_count": 28,
   "metadata": {},
   "outputs": [],
   "source": [
    "df = pd.read_csv(r'C:\\Users\\annab\\OneDrive\\Documentos\\GitHub\\Valeria-BI\\bases\\ecommerce_dataset_updated.csv')"
   ]
  },
  {
   "cell_type": "code",
   "execution_count": 29,
   "metadata": {},
   "outputs": [],
   "source": [
    "df['Purchase_Date'] = pd.to_datetime(df['Purchase_Date'], format='%d-%m-%Y')"
   ]
  },
  {
   "cell_type": "code",
   "execution_count": null,
   "metadata": {},
   "outputs": [],
   "source": [
    "import plotly.express as px\n",
    "import plotly as ptl\n",
    "\n",
    "df['Purchase_Date'] = pd.to_datetime(df['Purchase_Date'], format='%d-%m-%Y')\n",
    "\n",
    "fig_sales_category = px.bar(\n",
    "    df.groupby('Category')['Final_Price(Rs.)'].sum().reset_index(),\n",
    "    x='Category',\n",
    "    y='Final_Price(Rs.)',\n",
    "    title=\"Vendas por Categoria\",\n",
    "    labels={\"Final_Price(Rs.)\": \"Total Vendido (Rs.)\"}\n",
    ")\n",
    "\n",
    "fig_payment_methods = px.pie(\n",
    "    df,\n",
    "    names='Payment_Method',\n",
    "    values='Final_Price(Rs.)',\n",
    "    title=\"Distribuição dos Métodos de Pagamento\"\n",
    ")"
   ]
  },
  {
   "cell_type": "code",
   "execution_count": null,
   "metadata": {},
   "outputs": [
    {
     "ename": "NameError",
     "evalue": "name 'plotly' is not defined",
     "output_type": "error",
     "traceback": [
      "\u001b[1;31m---------------------------------------------------------------------------\u001b[0m",
      "\u001b[1;31mNameError\u001b[0m                                 Traceback (most recent call last)",
      "Cell \u001b[1;32mIn[32], line 21\u001b[0m\n\u001b[0;32m      6\u001b[0m fig_sales_category \u001b[38;5;241m=\u001b[39m px\u001b[38;5;241m.\u001b[39mbar(\n\u001b[0;32m      7\u001b[0m     df\u001b[38;5;241m.\u001b[39mgroupby(\u001b[38;5;124m'\u001b[39m\u001b[38;5;124mCategory\u001b[39m\u001b[38;5;124m'\u001b[39m)[\u001b[38;5;124m'\u001b[39m\u001b[38;5;124mFinal_Price(Rs.)\u001b[39m\u001b[38;5;124m'\u001b[39m]\u001b[38;5;241m.\u001b[39msum()\u001b[38;5;241m.\u001b[39mreset_index(),\n\u001b[0;32m      8\u001b[0m     x\u001b[38;5;241m=\u001b[39m\u001b[38;5;124m'\u001b[39m\u001b[38;5;124mCategory\u001b[39m\u001b[38;5;124m'\u001b[39m,\n\u001b[1;32m   (...)\u001b[0m\n\u001b[0;32m     11\u001b[0m     labels\u001b[38;5;241m=\u001b[39m{\u001b[38;5;124m\"\u001b[39m\u001b[38;5;124mFinal_Price(Rs.)\u001b[39m\u001b[38;5;124m\"\u001b[39m: \u001b[38;5;124m\"\u001b[39m\u001b[38;5;124mTotal Vendido (Rs.)\u001b[39m\u001b[38;5;124m\"\u001b[39m}\n\u001b[0;32m     12\u001b[0m )\n\u001b[0;32m     14\u001b[0m fig_payment_methods \u001b[38;5;241m=\u001b[39m px\u001b[38;5;241m.\u001b[39mpie(\n\u001b[0;32m     15\u001b[0m     df,\n\u001b[0;32m     16\u001b[0m     names\u001b[38;5;241m=\u001b[39m\u001b[38;5;124m'\u001b[39m\u001b[38;5;124mPayment_Method\u001b[39m\u001b[38;5;124m'\u001b[39m,\n\u001b[0;32m     17\u001b[0m     values\u001b[38;5;241m=\u001b[39m\u001b[38;5;124m'\u001b[39m\u001b[38;5;124mFinal_Price(Rs.)\u001b[39m\u001b[38;5;124m'\u001b[39m,\n\u001b[0;32m     18\u001b[0m     title\u001b[38;5;241m=\u001b[39m\u001b[38;5;124m\"\u001b[39m\u001b[38;5;124mDistribuição dos Métodos de Pagamento\u001b[39m\u001b[38;5;124m\"\u001b[39m\n\u001b[0;32m     19\u001b[0m )\n\u001b[1;32m---> 21\u001b[0m graph_sales_category \u001b[38;5;241m=\u001b[39m json\u001b[38;5;241m.\u001b[39mdumps(fig_sales_category, \u001b[38;5;28mcls\u001b[39m\u001b[38;5;241m=\u001b[39m\u001b[43mplotly\u001b[49m\u001b[38;5;241m.\u001b[39mutils\u001b[38;5;241m.\u001b[39mPlotlyJSONEncoder)\n\u001b[0;32m     22\u001b[0m graph_payment_methods \u001b[38;5;241m=\u001b[39m json\u001b[38;5;241m.\u001b[39mdumps(fig_payment_methods, \u001b[38;5;28mcls\u001b[39m\u001b[38;5;241m=\u001b[39mplotly\u001b[38;5;241m.\u001b[39mutils\u001b[38;5;241m.\u001b[39mPlotlyJSONEncoder)\n\u001b[0;32m     24\u001b[0m app \u001b[38;5;241m=\u001b[39m Flask(\u001b[38;5;18m__name__\u001b[39m)\n",
      "\u001b[1;31mNameError\u001b[0m: name 'plotly' is not defined"
     ]
    }
   ],
   "source": [
    "graph_sales_category = json.dumps(fig_sales_category, cls=plotly.utils.PlotlyJSONEncoder)\n",
    "graph_payment_methods = json.dumps(fig_payment_methods, cls=plotly.utils.PlotlyJSONEncoder)\n",
    "\n",
    "app = Flask(__name__)\n",
    "\n",
    "@app.route(\"/\")\n",
    "def index():\n",
    "    return render_template(\"dashboard.html\", \n",
    "                           graph_sales_category=graph_sales_category, \n",
    "                           graph_payment_methods=graph_payment_methods)"
   ]
  },
  {
   "cell_type": "code",
   "execution_count": 22,
   "metadata": {},
   "outputs": [
    {
     "data": {
      "text/html": [
       "\n",
       "        <iframe\n",
       "            width=\"100%\"\n",
       "            height=\"650\"\n",
       "            src=\"http://127.0.0.1:8050/\"\n",
       "            frameborder=\"0\"\n",
       "            allowfullscreen\n",
       "            \n",
       "        ></iframe>\n",
       "        "
      ],
      "text/plain": [
       "<IPython.lib.display.IFrame at 0x263d7c188f0>"
      ]
     },
     "metadata": {},
     "output_type": "display_data"
    }
   ],
   "source": [
    "if __name__ == '__main__':\n",
    "    app.run(debug=True)"
   ]
  }
 ],
 "metadata": {
  "kernelspec": {
   "display_name": "Python 3",
   "language": "python",
   "name": "python3"
  },
  "language_info": {
   "codemirror_mode": {
    "name": "ipython",
    "version": 3
   },
   "file_extension": ".py",
   "mimetype": "text/x-python",
   "name": "python",
   "nbconvert_exporter": "python",
   "pygments_lexer": "ipython3",
   "version": "3.12.4"
  }
 },
 "nbformat": 4,
 "nbformat_minor": 2
}
